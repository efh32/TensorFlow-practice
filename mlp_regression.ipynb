{
  "nbformat": 4,
  "nbformat_minor": 0,
  "metadata": {
    "colab": {
      "name": "mlp_regression.ipynb",
      "provenance": [],
      "authorship_tag": "ABX9TyMuwWHWGknw3YYSoTguVcbw",
      "include_colab_link": true
    },
    "kernelspec": {
      "name": "python3",
      "display_name": "Python 3"
    }
  },
  "cells": [
    {
      "cell_type": "markdown",
      "metadata": {
        "id": "view-in-github",
        "colab_type": "text"
      },
      "source": [
        "<a href=\"https://colab.research.google.com/github/efh32/TensorFlow-practice/blob/master/mlp_regression.ipynb\" target=\"_parent\"><img src=\"https://colab.research.google.com/assets/colab-badge.svg\" alt=\"Open In Colab\"/></a>"
      ]
    },
    {
      "cell_type": "code",
      "metadata": {
        "id": "UBwVzmWcmUva",
        "colab_type": "code",
        "colab": {}
      },
      "source": [
        "# mlp for regression\n",
        "import numpy as np\n",
        "import matplotlib.pyplot as plt\n",
        "import tensorflow.keras as k\n",
        "from numpy import sqrt\n",
        "from pandas import read_csv\n",
        "from sklearn.model_selection import train_test_split\n",
        "from tensorflow.keras import Sequential\n",
        "from tensorflow.keras.layers import Dense"
      ],
      "execution_count": null,
      "outputs": []
    },
    {
      "cell_type": "code",
      "metadata": {
        "id": "_do13Vke6qe-",
        "colab_type": "code",
        "colab": {}
      },
      "source": [
        "# load the dataset\n",
        "path = 'https://raw.githubusercontent.com/jbrownlee/Datasets/master/housing.csv'\n",
        "df = read_csv(path, header=None)"
      ],
      "execution_count": null,
      "outputs": []
    },
    {
      "cell_type": "code",
      "metadata": {
        "id": "zcPhpzp560Un",
        "colab_type": "code",
        "colab": {}
      },
      "source": [
        "# split into input and output columns\n",
        "X, y = df.values[:, :-1], df.values[:, -1]"
      ],
      "execution_count": null,
      "outputs": []
    },
    {
      "cell_type": "code",
      "metadata": {
        "id": "XcyBSWH-7mO6",
        "colab_type": "code",
        "colab": {
          "base_uri": "https://localhost:8080/",
          "height": 50
        },
        "outputId": "de6832dd-d41d-4a7d-e21c-a1720b5be60f"
      },
      "source": [
        "# check d-type for all values\n",
        "print(type(X[0][0]))\n",
        "X = X.astype('float32')\n",
        "print(type(X[0][0]))"
      ],
      "execution_count": null,
      "outputs": [
        {
          "output_type": "stream",
          "text": [
            "<class 'numpy.float64'>\n",
            "<class 'numpy.float32'>\n"
          ],
          "name": "stdout"
        }
      ]
    },
    {
      "cell_type": "code",
      "metadata": {
        "id": "yOnF6nf28fQx",
        "colab_type": "code",
        "colab": {}
      },
      "source": [
        "X_train, X_test, y_train, y_test = train_test_split(X, y, test_size=0.33)"
      ],
      "execution_count": null,
      "outputs": []
    },
    {
      "cell_type": "code",
      "metadata": {
        "id": "aueIeIa18oVY",
        "colab_type": "code",
        "colab": {
          "base_uri": "https://localhost:8080/",
          "height": 84
        },
        "outputId": "6c5add00-e906-46e0-cee4-d5e79ec9052b"
      },
      "source": [
        "print(X_train.shape)\n",
        "print(X_test.shape)\n",
        "print(y_train.shape)\n",
        "print(y_test.shape)"
      ],
      "execution_count": null,
      "outputs": [
        {
          "output_type": "stream",
          "text": [
            "(339, 13)\n",
            "(167, 13)\n",
            "(339,)\n",
            "(167,)\n"
          ],
          "name": "stdout"
        }
      ]
    },
    {
      "cell_type": "code",
      "metadata": {
        "id": "glcYIEMc8udO",
        "colab_type": "code",
        "colab": {
          "base_uri": "https://localhost:8080/",
          "height": 265
        },
        "outputId": "96c0a129-5e2b-49e2-a38c-a4a9b8406a30"
      },
      "source": [
        "#check distrubtion train and test is similar\n",
        "from numpy import random\n",
        "import matplotlib.pyplot as plt\n",
        "import seaborn as sns\n",
        "\n",
        "sns.distplot(y_train, hist=False)\n",
        "sns.distplot(y_test, hist=False)\n",
        "\n",
        "plt.show()"
      ],
      "execution_count": null,
      "outputs": [
        {
          "output_type": "display_data",
          "data": {
            "image/png": "[encoded data removed]",
            "text/plain": [
              "<Figure size 432x288 with 1 Axes>"
            ]
          },
          "metadata": {
            "tags": [],
            "needs_background": "light"
          }
        }
      ]
    },
    {
      "cell_type": "code",
      "metadata": {
        "id": "EjM7KmCP_wq2",
        "colab_type": "code",
        "colab": {}
      },
      "source": [
        "# determine the number of input features\n",
        "n_features = X_train.shape[1]"
      ],
      "execution_count": null,
      "outputs": []
    },
    {
      "cell_type": "code",
      "metadata": {
        "id": "F7XSKa8u-tT4",
        "colab_type": "code",
        "colab": {}
      },
      "source": [
        "model = Sequential()\n",
        "model.add(Dense(10, activation='relu', kernel_initializer='he_normal', name='layer1', input_shape=(n_features,)))\n",
        "model.add(Dense(8, activation='relu', kernel_initializer='he_normal', name='layer2'))\n",
        "model.add(Dense(5, activation='relu', kernel_initializer='he_normal', name='layer3'))\n",
        "model.add(Dense(1, name='layer4'))"
      ],
      "execution_count": null,
      "outputs": []
    },
    {
      "cell_type": "code",
      "metadata": {
        "id": "cTQxJYP9__xW",
        "colab_type": "code",
        "colab": {}
      },
      "source": [
        "# compile the model\n",
        "model.compile(optimizer='adam', loss='mse')"
      ],
      "execution_count": null,
      "outputs": []
    },
    {
      "cell_type": "code",
      "metadata": {
        "id": "6GorR--QAAo7",
        "colab_type": "code",
        "colab": {
          "base_uri": "https://localhost:8080/",
          "height": 34
        },
        "outputId": "09956753-7199-45bf-d213-3e6b08d5bdb6"
      },
      "source": [
        "# fit the model\n",
        "model.fit(X_train, y_train, epochs=150, batch_size=32, verbose=0)"
      ],
      "execution_count": null,
      "outputs": [
        {
          "output_type": "execute_result",
          "data": {
            "text/plain": [
              "<tensorflow.python.keras.callbacks.History at 0x7fea60bafd30>"
            ]
          },
          "metadata": {
            "tags": []
          },
          "execution_count": 18
        }
      ]
    },
    {
      "cell_type": "code",
      "metadata": {
        "id": "APzgEIL1ADsn",
        "colab_type": "code",
        "colab": {
          "base_uri": "https://localhost:8080/",
          "height": 34
        },
        "outputId": "f89713c5-9b6d-4b40-c58e-ba8116849fa6"
      },
      "source": [
        "# evaluate the model\n",
        "error = model.evaluate(X_test, y_test, verbose=0)\n",
        "print('MSE: %.3f, RMSE: %.3f' % (error, sqrt(error)))"
      ],
      "execution_count": null,
      "outputs": [
        {
          "output_type": "stream",
          "text": [
            "MSE: 53.642, RMSE: 7.324\n"
          ],
          "name": "stdout"
        }
      ]
    },
    {
      "cell_type": "code",
      "metadata": {
        "id": "h-iq6XWaAjU3",
        "colab_type": "code",
        "colab": {
          "base_uri": "https://localhost:8080/",
          "height": 84
        },
        "outputId": "5645b7c5-8bc0-44e0-b9e4-f229366b3348"
      },
      "source": [
        "# make a prediction\n",
        "test1 = np.array([X_test[0]])\n",
        "print(test1)\n",
        "print(test1.shape)\n"
      ],
      "execution_count": null,
      "outputs": [
        {
          "output_type": "stream",
          "text": [
            "[[1.5445e-01 2.5000e+01 5.1300e+00 0.0000e+00 4.5300e-01 6.1450e+00\n",
            "  2.9200e+01 7.8148e+00 8.0000e+00 2.8400e+02 1.9700e+01 3.9068e+02\n",
            "  6.8600e+00]]\n",
            "(1, 13)\n"
          ],
          "name": "stdout"
        }
      ]
    },
    {
      "cell_type": "code",
      "metadata": {
        "id": "402FEMzPAKAp",
        "colab_type": "code",
        "colab": {
          "base_uri": "https://localhost:8080/",
          "height": 34
        },
        "outputId": "ce537fc1-0285-434c-f825-6b755d860544"
      },
      "source": [
        "pred = model.predict([test1])\n",
        "print('Predicted: ',pred, ' Actual: ', y_test[0])"
      ],
      "execution_count": null,
      "outputs": [
        {
          "output_type": "stream",
          "text": [
            "Predicted:  [[25.163511]]  Actual:  23.3\n"
          ],
          "name": "stdout"
        }
      ]
    },
    {
      "cell_type": "code",
      "metadata": {
        "id": "DY838nOaBGxM",
        "colab_type": "code",
        "colab": {}
      },
      "source": [
        "layer1_model = k.models.Model(inputs=model.input, outputs=model.get_layer('layer1').output)"
      ],
      "execution_count": null,
      "outputs": []
    },
    {
      "cell_type": "code",
      "metadata": {
        "id": "J5tUq1fRBtKZ",
        "colab_type": "code",
        "colab": {}
      },
      "source": [
        "layer1_weights = model.get_layer('layer1').get_weights()"
      ],
      "execution_count": null,
      "outputs": []
    },
    {
      "cell_type": "code",
      "metadata": {
        "id": "jHtkNyleBiOG",
        "colab_type": "code",
        "colab": {
          "base_uri": "https://localhost:8080/",
          "height": 84
        },
        "outputId": "0bc27e7f-ca86-4a49-8b4a-a0d73dc66313"
      },
      "source": [
        "print(np.dot(test1, layer1_weights[0])+layer1_weights[1])\n",
        "print(layer1_model.predict(test1))"
      ],
      "execution_count": null,
      "outputs": [
        {
          "output_type": "stream",
          "text": [
            "[[-146.32785  -122.34225  -281.026      73.47342   -67.0448    433.9758\n",
            "  -186.61932    61.44488  -301.87784   -76.900314]]\n",
            "[[  0.        0.        0.       73.47343   0.      433.9758    0.\n",
            "   61.44488   0.        0.     ]]\n"
          ],
          "name": "stdout"
        }
      ]
    },
    {
      "cell_type": "code",
      "metadata": {
        "id": "pL65TSJZC1TP",
        "colab_type": "code",
        "colab": {}
      },
      "source": [
        "layer2_model = k.models.Model(inputs=model.input, outputs=model.get_layer('layer2').output)\n",
        "layer2_weights = model.get_layer('layer2').get_weights()"
      ],
      "execution_count": null,
      "outputs": []
    },
    {
      "cell_type": "code",
      "metadata": {
        "id": "VbLojdvaC8S5",
        "colab_type": "code",
        "colab": {
          "base_uri": "https://localhost:8080/",
          "height": 84
        },
        "outputId": "099898eb-bc7c-40f8-a4a6-930e5eaa2514"
      },
      "source": [
        "print(np.dot(layer1_model.predict(test1), layer2_weights[0])+layer2_weights[1])\n",
        "print(layer2_model.predict(test1))"
      ],
      "execution_count": null,
      "outputs": [
        {
          "output_type": "stream",
          "text": [
            "[[ 373.1144   346.1746  -373.15768  396.16205  327.19525  148.52315\n",
            "   147.94638   64.80889]]\n",
            "[[373.1144  346.1746    0.      396.16205 327.19525 148.52315 147.94638\n",
            "   64.80889]]\n"
          ],
          "name": "stdout"
        }
      ]
    },
    {
      "cell_type": "code",
      "metadata": {
        "id": "cvRsXkUbD4Zx",
        "colab_type": "code",
        "colab": {}
      },
      "source": [
        "layer3_model = k.models.Model(inputs=model.input, outputs=model.get_layer('layer3').output)\n",
        "layer3_weights = model.get_layer('layer3').get_weights()"
      ],
      "execution_count": null,
      "outputs": []
    },
    {
      "cell_type": "code",
      "metadata": {
        "id": "mTZ09PndD93C",
        "colab_type": "code",
        "colab": {
          "base_uri": "https://localhost:8080/",
          "height": 50
        },
        "outputId": "6db466c7-e64c-41a1-9cb5-1c584da1fc92"
      },
      "source": [
        "print(np.dot(layer2_model.predict(test1), layer3_weights[0])+layer3_weights[1])\n",
        "print(layer3_model.predict(test1))"
      ],
      "execution_count": null,
      "outputs": [
        {
          "output_type": "stream",
          "text": [
            "[[  -5.540783  106.8202   -138.17413   156.86768  -249.8534  ]]\n",
            "[[  0.      106.82018   0.      156.8677    0.     ]]\n"
          ],
          "name": "stdout"
        }
      ]
    },
    {
      "cell_type": "code",
      "metadata": {
        "id": "2omohBwlECs4",
        "colab_type": "code",
        "colab": {}
      },
      "source": [
        "layer4_model = k.models.Model(inputs=model.input, outputs=model.get_layer('layer4').output)\n",
        "layer4_weights = model.get_layer('layer4').get_weights()"
      ],
      "execution_count": null,
      "outputs": []
    },
    {
      "cell_type": "code",
      "metadata": {
        "id": "88K0_Y2BEeFA",
        "colab_type": "code",
        "colab": {
          "base_uri": "https://localhost:8080/",
          "height": 50
        },
        "outputId": "22344e79-d367-402e-921f-2acca47606fd"
      },
      "source": [
        "print(np.dot(layer3_model.predict(test1), layer4_weights[0])+layer4_weights[1])\n",
        "print(layer4_model.predict(test1))"
      ],
      "execution_count": null,
      "outputs": [
        {
          "output_type": "stream",
          "text": [
            "[[25.16351]]\n",
            "[[25.163511]]\n"
          ],
          "name": "stdout"
        }
      ]
    },
    {
      "cell_type": "code",
      "metadata": {
        "id": "EiYlKTMfFoTY",
        "colab_type": "code",
        "colab": {
          "base_uri": "https://localhost:8080/",
          "height": 67
        },
        "outputId": "82abcf13-26e8-4bb3-edff-5e6035cab7be"
      },
      "source": [
        "Q1 = np.percentile(y_test, 25, interpolation = 'midpoint') \n",
        "print(Q1)\n",
        "\n",
        "M = np.percentile(y_test, 50, interpolation = 'midpoint') \n",
        "print(M)\n",
        "\n",
        "Q3 = np.percentile(y_test, 75, interpolation = 'midpoint') \n",
        "print(Q3)\n"
      ],
      "execution_count": null,
      "outputs": [
        {
          "output_type": "stream",
          "text": [
            "15.2\n",
            "21.2\n",
            "24.85\n"
          ],
          "name": "stdout"
        }
      ]
    },
    {
      "cell_type": "code",
      "metadata": {
        "id": "hzG04Ef2HKs8",
        "colab_type": "code",
        "colab": {}
      },
      "source": [
        "c1 = X_test[y_test <= 15.2]\n",
        "c2 = X_test[y_test <= 21.2]\n",
        "c3 = X_test[y_test <= 24.85]\n",
        "c4 = X_test[y_test > 24.85]"
      ],
      "execution_count": null,
      "outputs": []
    },
    {
      "cell_type": "code",
      "metadata": {
        "id": "UBt6qP7GHrMF",
        "colab_type": "code",
        "colab": {
          "base_uri": "https://localhost:8080/",
          "height": 739
        },
        "outputId": "69ce7ae2-88ed-48aa-bca7-05c0aa5c671d"
      },
      "source": [
        "c1_p = model.predict(c1)\n",
        "c2_p = model.predict(c2)\n",
        "c3_p = model.predict(c3)\n",
        "c4_p = model.predict(c4)\n",
        "\n",
        "print(c1_p)"
      ],
      "execution_count": null,
      "outputs": [
        {
          "output_type": "stream",
          "text": [
            "[[17.802286]\n",
            " [16.393206]\n",
            " [18.862211]\n",
            " [12.844286]\n",
            " [13.777262]\n",
            " [20.845163]\n",
            " [12.806896]\n",
            " [14.05466 ]\n",
            " [16.171448]\n",
            " [18.883318]\n",
            " [14.02847 ]\n",
            " [12.241528]\n",
            " [18.511297]\n",
            " [18.253716]\n",
            " [ 9.470447]\n",
            " [19.533182]\n",
            " [23.208263]\n",
            " [12.799077]\n",
            " [20.561556]\n",
            " [16.952799]\n",
            " [15.796197]\n",
            " [27.18775 ]\n",
            " [13.74068 ]\n",
            " [12.121724]\n",
            " [13.869999]\n",
            " [22.06446 ]\n",
            " [18.828285]\n",
            " [18.940569]\n",
            " [24.915785]\n",
            " [12.280154]\n",
            " [16.712366]\n",
            " [18.801357]\n",
            " [16.080254]\n",
            " [18.528467]\n",
            " [18.706905]\n",
            " [19.105965]\n",
            " [18.971249]\n",
            " [24.98444 ]\n",
            " [15.40744 ]\n",
            " [ 6.139673]\n",
            " [19.133892]\n",
            " [16.461998]\n",
            " [18.94374 ]]\n"
          ],
          "name": "stdout"
        }
      ]
    },
    {
      "cell_type": "code",
      "metadata": {
        "id": "e0fe9n0RJYZG",
        "colab_type": "code",
        "colab": {
          "base_uri": "https://localhost:8080/",
          "height": 282
        },
        "outputId": "25e7a15c-226c-434a-81b8-9fa4c9e31780"
      },
      "source": [
        "val = 0\n",
        "plt.plot(c1_p, np.zeros_like(c1_p) + val, '.', c='b')\n",
        "plt.plot(c2_p, np.zeros_like(c2_p) + val, '.', c='r')\n",
        "plt.plot(c3_p, np.zeros_like(c3_p) + val, '.', c='g')\n",
        "plt.plot(c4_p, np.zeros_like(c4_p) + val, '.', c='silver')\n"
      ],
      "execution_count": null,
      "outputs": [
        {
          "output_type": "execute_result",
          "data": {
            "text/plain": [
              "[<matplotlib.lines.Line2D at 0x7fea689f2b38>]"
            ]
          },
          "metadata": {
            "tags": []
          },
          "execution_count": 63
        },
        {
          "output_type": "display_data",
          "data": {
            "image/png": "[encoded data removed]",
            "text/plain": [
              "<Figure size 432x288 with 1 Axes>"
            ]
          },
          "metadata": {
            "tags": [],
            "needs_background": "light"
          }
        }
      ]
    },
    {
      "cell_type": "code",
      "metadata": {
        "id": "RGMjZDqnKBEk",
        "colab_type": "code",
        "colab": {
          "base_uri": "https://localhost:8080/",
          "height": 67
        },
        "outputId": "3e0b7804-7d46-4e24-d286-9411f17f083a"
      },
      "source": [
        "from sklearn.metrics import mean_squared_error\n",
        "\n",
        "\n",
        "y_test_pred = model.predict(X_test)\n",
        "\n",
        "square_error = np.subtract(y_test, y_test_pred[0])\n",
        "square_error = np.square(square_error)\n",
        "square_error = np.sqrt(square_error)\n",
        "\n",
        "print(y_test.shape)\n",
        "print(y_test_pred.shape)\n",
        "print(square_error.shape)"
      ],
      "execution_count": null,
      "outputs": [
        {
          "output_type": "stream",
          "text": [
            "(167,)\n",
            "(167, 1)\n",
            "(167,)\n"
          ],
          "name": "stdout"
        }
      ]
    },
    {
      "cell_type": "code",
      "metadata": {
        "id": "_JFH1UGaM36r",
        "colab_type": "code",
        "colab": {
          "base_uri": "https://localhost:8080/",
          "height": 588
        },
        "outputId": "c8ccc0f7-8cfa-4b7c-e1ef-89998d14e78f"
      },
      "source": [
        "square_error"
      ],
      "execution_count": null,
      "outputs": [
        {
          "output_type": "execute_result",
          "data": {
            "text/plain": [
              "array([ 1.86350365,  1.03649635,  3.96350365,  9.96350365, 11.26350365,\n",
              "        1.86350365,  0.56350365, 10.06350365,  3.53649635, 16.36350365,\n",
              "        1.26350365, 18.63649635,  5.96350365,  2.83649635,  6.43649635,\n",
              "        0.46350365,  3.33649635,  1.43649635,  2.33649635, 16.76350365,\n",
              "        3.83649635,  4.26350365, 14.76350365,  4.63649635,  7.23649635,\n",
              "        2.06350365,  3.23649635,  2.76350365, 11.76350365,  2.96350365,\n",
              "        6.53649635,  9.73649635, 15.66350365,  3.06350365,  0.86350365,\n",
              "       11.86350365, 21.53649635, 24.83649635,  4.73649635,  7.76350365,\n",
              "       11.06350365, 16.76350365, 17.96350365, 17.63649635, 10.56350365,\n",
              "        5.06350365,  2.56350365, 24.83649635,  0.76350365,  3.26350365,\n",
              "       13.26350365,  3.96350365,  2.93649635,  8.36350365, 11.96350365,\n",
              "        2.33649635,  2.06350365, 10.16350365,  5.46350365, 11.56350365,\n",
              "       15.56350365, 10.86350365,  1.06350365,  4.36350365,  0.46350365,\n",
              "        2.36350365,  1.76350365,  3.46350365,  0.16350365,  9.96350365,\n",
              "        3.56350365,  4.06350365,  1.26350365,  7.06350365,  4.06350365,\n",
              "       24.83649635, 14.36350365,  5.76350365, 10.76350365,  6.06350365,\n",
              "        0.56350365, 13.46350365,  3.56350365,  2.16350365, 10.26350365,\n",
              "       18.16350365, 13.36350365,  0.86350365,  6.46350365,  4.76350365,\n",
              "        1.66350365, 14.66350365,  7.96350365, 17.96350365, 10.66350365,\n",
              "        1.46350365, 12.46350365,  6.06350365,  3.23649635,  5.06350365,\n",
              "        6.16350365,  4.36350365, 10.36350365,  4.43649635,  8.06350365,\n",
              "       17.93649635, 12.56350365,  9.86350365,  6.86350365,  6.06350365,\n",
              "        3.96350365, 11.76350365, 12.86350365, 23.33649635,  1.06350365,\n",
              "        5.66350365, 23.63649635, 16.66350365,  2.86350365, 11.36350365,\n",
              "        4.56350365,  3.96350365, 12.06350365,  3.26350365,  4.93649635,\n",
              "        6.66350365,  8.66350365,  1.56350365,  3.16350365,  3.93649635,\n",
              "        9.96350365,  3.43649635,  0.13649635,  8.13649635,  2.56350365,\n",
              "       18.16350365,  7.16350365, 12.06350365,  5.06350365,  5.56350365,\n",
              "        8.66350365, 12.46350365,  3.76350365,  6.43649635,  1.93649635,\n",
              "        6.06350365,  5.16350365,  0.03649635,  8.23649635,  1.43649635,\n",
              "        7.83649635, 24.83649635,  2.73649635,  4.46350365,  5.56350365,\n",
              "        6.16350365,  2.46350365,  5.06350365,  5.46350365, 14.76350365,\n",
              "        3.16350365,  3.76350365,  2.96350365, 14.26350365,  3.16350365,\n",
              "        6.03649635,  7.66350365])"
            ]
          },
          "metadata": {
            "tags": []
          },
          "execution_count": 90
        }
      ]
    },
    {
      "cell_type": "code",
      "metadata": {
        "id": "uiskLQwmM9_M",
        "colab_type": "code",
        "colab": {
          "base_uri": "https://localhost:8080/",
          "height": 265
        },
        "outputId": "be3d3b95-60e8-4300-f9f5-9a1fa251cf72"
      },
      "source": [
        "#check distrubtion train and test is similar\n",
        "from numpy import random\n",
        "import matplotlib.pyplot as plt\n",
        "import seaborn as sns\n",
        "\n",
        "sns.distplot(y_test, hist=False)\n",
        "sns.distplot(y_test_pred, hist=False)\n",
        "\n",
        "plt.show()"
      ],
      "execution_count": null,
      "outputs": [
        {
          "output_type": "display_data",
          "data": {
            "image/png": "[encoded data removed]",
            "text/plain": [
              "<Figure size 432x288 with 1 Axes>"
            ]
          },
          "metadata": {
            "tags": [],
            "needs_background": "light"
          }
        }
      ]
    },
    {
      "cell_type": "code",
      "metadata": {
        "id": "spGkJDIiNlXX",
        "colab_type": "code",
        "colab": {
          "base_uri": "https://localhost:8080/",
          "height": 265
        },
        "outputId": "8eee7ce6-d822-40be-d035-15e3d14b5d83"
      },
      "source": [
        "sns.distplot(square_error, hist=False)\n",
        "\n",
        "\n",
        "plt.show()"
      ],
      "execution_count": null,
      "outputs": [
        {
          "output_type": "display_data",
          "data": {
            "image/png": "[encoded data removed]",
            "text/plain": [
              "<Figure size 432x288 with 1 Axes>"
            ]
          },
          "metadata": {
            "tags": [],
            "needs_background": "light"
          }
        }
      ]
    }
  ]
}