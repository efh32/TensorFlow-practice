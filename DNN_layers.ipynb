{
  "nbformat": 4,
  "nbformat_minor": 0,
  "metadata": {
    "colab": {
      "name": "DNN_layers.ipynb",
      "provenance": [],
      "authorship_tag": "ABX9TyMN2ebmsWmiqfLcdnOSff3q",
      "include_colab_link": true
    },
    "kernelspec": {
      "name": "python3",
      "display_name": "Python 3"
    }
  },
  "cells": [
    {
      "cell_type": "markdown",
      "metadata": {
        "id": "view-in-github",
        "colab_type": "text"
      },
      "source": [
        "<a href=\"https://colab.research.google.com/github/efh32/TensorFlow-practice/blob/master/DNN_layers.ipynb\" target=\"_parent\"><img src=\"https://colab.research.google.com/assets/colab-badge.svg\" alt=\"Open In Colab\"/></a>"
      ]
    },
    {
      "cell_type": "code",
      "metadata": {
        "id": "YJwJuy3iUDm8",
        "colab_type": "code",
        "colab": {}
      },
      "source": [
        "# mlp for multiclass classification\n",
        "from numpy import argmax\n",
        "from pandas import read_csv\n",
        "from sklearn.model_selection import train_test_split\n",
        "from sklearn.preprocessing import LabelEncoder\n",
        "from tensorflow.keras import Sequential\n",
        "from tensorflow.keras.layers import Dense\n",
        "import tensorflow.keras as k\n",
        "import numpy as np"
      ],
      "execution_count": 29,
      "outputs": []
    },
    {
      "cell_type": "code",
      "metadata": {
        "id": "ix3RupZfUE4M",
        "colab_type": "code",
        "colab": {}
      },
      "source": [
        "# load the dataset\n",
        "path = 'https://raw.githubusercontent.com/jbrownlee/Datasets/master/iris.csv'\n",
        "df = read_csv(path, header=None)\n",
        "# split into input and output columns\n",
        "X, y = df.values[:, :-1], df.values[:, -1]"
      ],
      "execution_count": 2,
      "outputs": []
    },
    {
      "cell_type": "code",
      "metadata": {
        "id": "Fo273cAvUM4h",
        "colab_type": "code",
        "colab": {
          "base_uri": "https://localhost:8080/",
          "height": 252
        },
        "outputId": "f7d0492a-3568-4bee-ee01-65c272b8d2f6"
      },
      "source": [
        "print(X[:10])\n",
        "print(type(X[0][0]))\n",
        "print(type(X[0][1]))\n",
        "print(type(X[0][2]))\n",
        "print(type(X[0][3]))"
      ],
      "execution_count": 3,
      "outputs": [
        {
          "output_type": "stream",
          "text": [
            "[[5.1 3.5 1.4 0.2]\n",
            " [4.9 3.0 1.4 0.2]\n",
            " [4.7 3.2 1.3 0.2]\n",
            " [4.6 3.1 1.5 0.2]\n",
            " [5.0 3.6 1.4 0.2]\n",
            " [5.4 3.9 1.7 0.4]\n",
            " [4.6 3.4 1.4 0.3]\n",
            " [5.0 3.4 1.5 0.2]\n",
            " [4.4 2.9 1.4 0.2]\n",
            " [4.9 3.1 1.5 0.1]]\n",
            "<class 'float'>\n",
            "<class 'float'>\n",
            "<class 'float'>\n",
            "<class 'float'>\n"
          ],
          "name": "stdout"
        }
      ]
    },
    {
      "cell_type": "code",
      "metadata": {
        "id": "k3-gxL0aVndO",
        "colab_type": "code",
        "colab": {
          "base_uri": "https://localhost:8080/",
          "height": 84
        },
        "outputId": "f19f98d0-7d0e-4e46-e4b8-a6b9fcdf0c2d"
      },
      "source": [
        "# ensure all data are floating point values\n",
        "X = X.astype('float32')\n",
        "print(type(X[0][0]))\n",
        "print(type(X[0][1]))\n",
        "print(type(X[0][2]))\n",
        "print(type(X[0][3]))"
      ],
      "execution_count": 4,
      "outputs": [
        {
          "output_type": "stream",
          "text": [
            "<class 'numpy.float32'>\n",
            "<class 'numpy.float32'>\n",
            "<class 'numpy.float32'>\n",
            "<class 'numpy.float32'>\n"
          ],
          "name": "stdout"
        }
      ]
    },
    {
      "cell_type": "code",
      "metadata": {
        "id": "Xo77l3grVvaf",
        "colab_type": "code",
        "colab": {
          "base_uri": "https://localhost:8080/",
          "height": 50
        },
        "outputId": "6a3e0def-498d-4400-a9f2-bc80854f041b"
      },
      "source": [
        "print(y[:10])"
      ],
      "execution_count": 5,
      "outputs": [
        {
          "output_type": "stream",
          "text": [
            "['Iris-setosa' 'Iris-setosa' 'Iris-setosa' 'Iris-setosa' 'Iris-setosa'\n",
            " 'Iris-setosa' 'Iris-setosa' 'Iris-setosa' 'Iris-setosa' 'Iris-setosa']\n"
          ],
          "name": "stdout"
        }
      ]
    },
    {
      "cell_type": "code",
      "metadata": {
        "id": "j7i2r1yAUG2y",
        "colab_type": "code",
        "colab": {
          "base_uri": "https://localhost:8080/",
          "height": 84
        },
        "outputId": "34d6c509-a475-456b-8bb8-98fe8b0d3679"
      },
      "source": [
        "# encode strings to integer\n",
        "y = LabelEncoder().fit_transform(y)\n",
        "print(y[:10])\n",
        "print(y[-10:])\n",
        "print(len(y))\n",
        "print(y[75:85])"
      ],
      "execution_count": 6,
      "outputs": [
        {
          "output_type": "stream",
          "text": [
            "[0 0 0 0 0 0 0 0 0 0]\n",
            "[2 2 2 2 2 2 2 2 2 2]\n",
            "150\n",
            "[1 1 1 1 1 1 1 1 1 1]\n"
          ],
          "name": "stdout"
        }
      ]
    },
    {
      "cell_type": "code",
      "metadata": {
        "id": "so8m34NoVzdd",
        "colab_type": "code",
        "colab": {}
      },
      "source": [
        "X_train, X_test, y_train, y_test = train_test_split(X, y, test_size=0.33)"
      ],
      "execution_count": 7,
      "outputs": []
    },
    {
      "cell_type": "code",
      "metadata": {
        "id": "zqnZlpebWjJz",
        "colab_type": "code",
        "colab": {
          "base_uri": "https://localhost:8080/",
          "height": 67
        },
        "outputId": "b42ea900-86a5-46f7-a3ed-108d839c1e07"
      },
      "source": [
        "print(y_train)"
      ],
      "execution_count": 8,
      "outputs": [
        {
          "output_type": "stream",
          "text": [
            "[2 2 1 1 1 0 0 1 2 1 2 1 0 0 2 1 2 1 0 0 2 2 0 2 0 0 1 2 2 1 2 0 1 1 2 1 1\n",
            " 2 0 2 1 0 1 0 1 2 2 0 0 0 2 1 0 0 0 1 1 1 0 2 2 0 2 1 0 0 0 2 0 2 0 2 1 0\n",
            " 2 2 1 1 2 2 0 2 2 2 1 2 1 2 2 1 1 1 0 0 2 0 0 2 1 0]\n"
          ],
          "name": "stdout"
        }
      ]
    },
    {
      "cell_type": "code",
      "metadata": {
        "id": "I2tUFAh4Wpke",
        "colab_type": "code",
        "colab": {
          "base_uri": "https://localhost:8080/",
          "height": 34
        },
        "outputId": "38420c93-efb3-49d4-ff8b-e232736910c8"
      },
      "source": [
        "print(X_train.shape)"
      ],
      "execution_count": 9,
      "outputs": [
        {
          "output_type": "stream",
          "text": [
            "(100, 4)\n"
          ],
          "name": "stdout"
        }
      ]
    },
    {
      "cell_type": "code",
      "metadata": {
        "id": "qCVLrw5AW7qT",
        "colab_type": "code",
        "colab": {
          "base_uri": "https://localhost:8080/",
          "height": 34
        },
        "outputId": "6b7521c5-7e35-4377-aa8b-4c2d1d51dfc0"
      },
      "source": [
        "n_features = X_train.shape[1]\n",
        "print(n_features)"
      ],
      "execution_count": 10,
      "outputs": [
        {
          "output_type": "stream",
          "text": [
            "4\n"
          ],
          "name": "stdout"
        }
      ]
    },
    {
      "cell_type": "code",
      "metadata": {
        "id": "53Ngb3A2XHSK",
        "colab_type": "code",
        "colab": {
          "base_uri": "https://localhost:8080/",
          "height": 34
        },
        "outputId": "9158c4b0-7985-4e60-9cc1-6e750b2bc213"
      },
      "source": [
        "print(X_train.shape[0])"
      ],
      "execution_count": 11,
      "outputs": [
        {
          "output_type": "stream",
          "text": [
            "100\n"
          ],
          "name": "stdout"
        }
      ]
    },
    {
      "cell_type": "code",
      "metadata": {
        "id": "W5KEwEZpXd9C",
        "colab_type": "code",
        "colab": {
          "base_uri": "https://localhost:8080/",
          "height": 50
        },
        "outputId": "1118ff7f-2068-4c01-de18-ff9e7e469131"
      },
      "source": [
        "print(X_train.shape[-1])\n",
        "print(X_train.shape[-2])"
      ],
      "execution_count": 12,
      "outputs": [
        {
          "output_type": "stream",
          "text": [
            "4\n",
            "100\n"
          ],
          "name": "stdout"
        }
      ]
    },
    {
      "cell_type": "code",
      "metadata": {
        "id": "vDWT688vXrgO",
        "colab_type": "code",
        "colab": {}
      },
      "source": [
        "# define model\n",
        "model = Sequential()\n",
        "model.add(Dense(10, activation='relu', kernel_initializer='he_normal', input_shape=(n_features,), name='layer1'))\n",
        "model.add(Dense(8, activation='relu', kernel_initializer='he_normal', name='layer2'))\n",
        "model.add(Dense(5, activation='relu', kernel_initializer='he_normal', name='layer3'))\n",
        "model.add(Dense(3, activation='softmax', name='softmax_layer'))"
      ],
      "execution_count": 13,
      "outputs": []
    },
    {
      "cell_type": "code",
      "metadata": {
        "id": "e6x8zwKWXwxD",
        "colab_type": "code",
        "colab": {
          "base_uri": "https://localhost:8080/",
          "height": 302
        },
        "outputId": "8457dce5-cc98-4835-ffc4-addd4e45b657"
      },
      "source": [
        "print(model.summary())"
      ],
      "execution_count": 14,
      "outputs": [
        {
          "output_type": "stream",
          "text": [
            "Model: \"sequential\"\n",
            "_________________________________________________________________\n",
            "Layer (type)                 Output Shape              Param #   \n",
            "=================================================================\n",
            "layer1 (Dense)               (None, 10)                50        \n",
            "_________________________________________________________________\n",
            "layer2 (Dense)               (None, 8)                 88        \n",
            "_________________________________________________________________\n",
            "layer3 (Dense)               (None, 5)                 45        \n",
            "_________________________________________________________________\n",
            "softmanx_layer (Dense)       (None, 3)                 18        \n",
            "=================================================================\n",
            "Total params: 201\n",
            "Trainable params: 201\n",
            "Non-trainable params: 0\n",
            "_________________________________________________________________\n",
            "None\n"
          ],
          "name": "stdout"
        }
      ]
    },
    {
      "cell_type": "code",
      "metadata": {
        "id": "BqtBJuY7YR1z",
        "colab_type": "code",
        "colab": {}
      },
      "source": [
        "# compile the model\n",
        "model.compile(optimizer='adam', loss='sparse_categorical_crossentropy', metrics=['accuracy'])\n",
        "# fit the model\n",
        "model.fit(X_train, y_train, epochs=150, batch_size=32, verbose=0)\n",
        "# evaluate the model\n",
        "loss, acc = model.evaluate(X_test, y_test, verbose=0)"
      ],
      "execution_count": 16,
      "outputs": []
    },
    {
      "cell_type": "code",
      "metadata": {
        "id": "PxtWPsE_zv96",
        "colab_type": "code",
        "colab": {
          "base_uri": "https://localhost:8080/",
          "height": 894
        },
        "outputId": "61827402-2181-4556-ea36-058348a38cf2"
      },
      "source": [
        "print(model.weights)"
      ],
      "execution_count": 17,
      "outputs": [
        {
          "output_type": "stream",
          "text": [
            "[<tf.Variable 'layer1/kernel:0' shape=(4, 10) dtype=float32, numpy=\n",
            "array([[ 0.5947839 , -0.41960028,  0.19726996,  0.3407105 , -0.05250696,\n",
            "         0.06376611, -0.9903498 , -0.8910181 , -0.11515204, -0.6849415 ],\n",
            "       [-0.00168907, -0.57038754, -0.6019411 ,  0.09353954,  1.5500998 ,\n",
            "        -0.42658785,  0.3788401 , -0.35804683, -0.1195932 , -1.0014108 ],\n",
            "       [ 1.2260422 , -1.1740804 ,  0.25694013,  0.6696063 , -0.7273707 ,\n",
            "         1.3361243 , -0.01268508,  0.38900086, -0.03100165, -0.8857637 ],\n",
            "       [-0.80117726,  0.55864257,  0.32788917, -0.89655995, -0.5944501 ,\n",
            "         1.138713  ,  0.36818144,  0.06747258, -0.57655674,  0.82553166]],\n",
            "      dtype=float32)>, <tf.Variable 'layer1/bias:0' shape=(10,) dtype=float32, numpy=\n",
            "array([ 0.09328666,  0.        , -0.08227021,  0.15418619,  0.48139596,\n",
            "       -0.10603895,  0.        ,  0.        ,  0.        ,  0.        ],\n",
            "      dtype=float32)>, <tf.Variable 'layer2/kernel:0' shape=(10, 8) dtype=float32, numpy=\n",
            "array([[ 0.40189344,  0.06878303,  0.07361549,  0.11103338, -0.12353898,\n",
            "         0.71880674,  0.14466761, -0.66364366],\n",
            "       [ 0.7441133 , -0.10733938, -0.0133907 , -0.40280256,  0.7707257 ,\n",
            "        -0.195893  , -0.11211708,  0.24927907],\n",
            "       [-0.7019519 ,  1.1507823 ,  0.03064272,  0.31162667,  0.37665832,\n",
            "        -0.2811802 ,  0.32006982,  0.29995847],\n",
            "       [ 0.25444785,  0.02284961, -0.8449968 , -0.16562672,  0.08223266,\n",
            "         0.17093207, -0.98257154, -0.607555  ],\n",
            "       [ 0.9100939 , -0.17560163,  0.37448955, -0.57808214, -0.6279049 ,\n",
            "        -0.19533242,  0.34582135, -0.57565224],\n",
            "       [-0.45503107,  0.6317265 , -0.5539862 , -0.12340034, -0.00530899,\n",
            "        -0.5609822 , -0.53370225,  0.27983806],\n",
            "       [ 0.06728395,  0.25712606,  0.67033285,  0.0746287 ,  0.3706839 ,\n",
            "        -0.58052427, -0.91885835,  0.14731137],\n",
            "       [-0.28026003,  0.02415845,  0.07046339,  0.50673544,  0.42461228,\n",
            "         0.657771  , -0.29019982,  0.22279365],\n",
            "       [-0.36943468, -0.6283122 , -0.07631729,  0.20427443,  0.770457  ,\n",
            "        -0.4251421 , -0.00935573, -0.18735938],\n",
            "       [ 0.20316698, -0.3623321 , -0.08159311, -0.01935619,  0.15241726,\n",
            "         0.14207108,  0.7922499 , -0.03241508]], dtype=float32)>, <tf.Variable 'layer2/bias:0' shape=(8,) dtype=float32, numpy=\n",
            "array([ 0.38981262,  0.00865389,  0.        ,  0.00044266, -0.01991718,\n",
            "       -0.04845427,  0.        ,  0.        ], dtype=float32)>, <tf.Variable 'layer3/kernel:0' shape=(8, 5) dtype=float32, numpy=\n",
            "array([[-0.7378329 ,  1.2726718 ,  1.1586196 , -1.6304554 , -0.05876416],\n",
            "       [ 0.7732695 , -0.66626847,  0.766063  ,  0.7274424 , -0.71749926],\n",
            "       [ 0.5157972 ,  0.36411104,  0.4338034 ,  0.87962204,  0.35288727],\n",
            "       [ 0.1851054 , -0.00572615, -0.94415957,  0.15981704, -0.9290323 ],\n",
            "       [-0.5927195 , -0.18402675, -0.22724771, -0.02413281, -0.30442506],\n",
            "       [ 0.43242434,  0.20168042,  0.20154577, -0.43516693,  0.1822317 ],\n",
            "       [-0.31783184,  0.05356283,  0.09032521, -0.3402764 , -0.65085644],\n",
            "       [-0.55115324, -0.1313999 , -0.20508066, -0.46696293,  0.6803186 ]],\n",
            "      dtype=float32)>, <tf.Variable 'layer3/bias:0' shape=(5,) dtype=float32, numpy=\n",
            "array([-0.1917207 , -0.20317973,  0.32881314, -0.19956484, -0.10267872],\n",
            "      dtype=float32)>, <tf.Variable 'softmanx_layer/kernel:0' shape=(5, 3) dtype=float32, numpy=\n",
            "array([[-1.2176251 , -0.48980466,  0.42823124],\n",
            "       [ 1.1036773 , -1.033756  ,  0.38148665],\n",
            "       [-0.12148271,  0.62307245, -0.45858175],\n",
            "       [ 0.19094348, -1.2679783 ,  0.31834757],\n",
            "       [-0.53799826,  0.6918864 , -0.21645354]], dtype=float32)>, <tf.Variable 'softmanx_layer/bias:0' shape=(3,) dtype=float32, numpy=array([-0.18878429,  0.32132006, -0.27250764], dtype=float32)>]\n"
          ],
          "name": "stdout"
        }
      ]
    },
    {
      "cell_type": "code",
      "metadata": {
        "id": "jxl0SG_5z9cw",
        "colab_type": "code",
        "colab": {
          "base_uri": "https://localhost:8080/",
          "height": 50
        },
        "outputId": "efa0d2b1-3f7b-4b16-baa4-e895f8cb22f6"
      },
      "source": [
        "print(X_test[0])\n",
        "print(y_test[0])"
      ],
      "execution_count": 18,
      "outputs": [
        {
          "output_type": "stream",
          "text": [
            "[5.8 2.8 5.1 2.4]\n",
            "2\n"
          ],
          "name": "stdout"
        }
      ]
    },
    {
      "cell_type": "code",
      "metadata": {
        "id": "kFtq0AwE0GBL",
        "colab_type": "code",
        "colab": {}
      },
      "source": [
        "model_l1 = k.models.Model(inputs=model.input, outputs=model.get_layer('layer1').output)"
      ],
      "execution_count": 23,
      "outputs": []
    },
    {
      "cell_type": "code",
      "metadata": {
        "id": "zu2D30Oc0qRK",
        "colab_type": "code",
        "colab": {
          "base_uri": "https://localhost:8080/",
          "height": 50
        },
        "outputId": "f78c6512-f26e-4a6e-b907-37b563b6167c"
      },
      "source": [
        "print(X_test[0].shape)\n",
        "print(model.input)"
      ],
      "execution_count": 27,
      "outputs": [
        {
          "output_type": "stream",
          "text": [
            "(4,)\n",
            "Tensor(\"layer1_input:0\", shape=(None, 4), dtype=float32)\n"
          ],
          "name": "stdout"
        }
      ]
    },
    {
      "cell_type": "code",
      "metadata": {
        "id": "BWOGdehp08ph",
        "colab_type": "code",
        "colab": {
          "base_uri": "https://localhost:8080/",
          "height": 34
        },
        "outputId": "5a725a06-7167-403b-9ffe-e6abba3387d1"
      },
      "source": [
        "test1 = np.array([X_test[0]])\n",
        "print(test1.shape)"
      ],
      "execution_count": 31,
      "outputs": [
        {
          "output_type": "stream",
          "text": [
            "(1, 4)\n"
          ],
          "name": "stdout"
        }
      ]
    },
    {
      "cell_type": "code",
      "metadata": {
        "id": "fn8wSZdJ1Qlt",
        "colab_type": "code",
        "colab": {
          "base_uri": "https://localhost:8080/",
          "height": 50
        },
        "outputId": "1244d20e-a375-4417-d3cf-918890c1241a"
      },
      "source": [
        "model_l1.predict(test1)"
      ],
      "execution_count": 32,
      "outputs": [
        {
          "output_type": "execute_result",
          "data": {
            "text/plain": [
              "array([[7.8682933, 0.       , 1.4737892, 3.655466 , 0.       , 8.616504 ,\n",
              "        0.       , 0.       , 0.       , 0.       ]], dtype=float32)"
            ]
          },
          "metadata": {
            "tags": []
          },
          "execution_count": 32
        }
      ]
    },
    {
      "cell_type": "code",
      "metadata": {
        "id": "00Bf5b-e1bwv",
        "colab_type": "code",
        "colab": {}
      },
      "source": [
        "model_l2 = k.models.Model(inputs=model.input, outputs=model.get_layer('layer2').output)"
      ],
      "execution_count": 37,
      "outputs": []
    },
    {
      "cell_type": "code",
      "metadata": {
        "id": "Mo6-ddYO1poN",
        "colab_type": "code",
        "colab": {
          "base_uri": "https://localhost:8080/",
          "height": 50
        },
        "outputId": "8e1da445-dc79-4b8e-9ecf-f7f28be924fc"
      },
      "source": [
        "model_l2.predict(test1)"
      ],
      "execution_count": 39,
      "outputs": [
        {
          "output_type": "execute_result",
          "data": {
            "text/plain": [
              "array([[0.       , 7.7726693, 0.       , 0.       , 0.       , 0.9840584,\n",
              "        0.       , 0.       ]], dtype=float32)"
            ]
          },
          "metadata": {
            "tags": []
          },
          "execution_count": 39
        }
      ]
    },
    {
      "cell_type": "code",
      "metadata": {
        "id": "VKxaFHCL2UEt",
        "colab_type": "code",
        "colab": {
          "base_uri": "https://localhost:8080/",
          "height": 370
        },
        "outputId": "5e454bab-ec7c-4825-8a32-40aba822005f"
      },
      "source": [
        "layer2_weights = model.get_layer('layer2').get_weights()\n",
        "print(layer2_weights)"
      ],
      "execution_count": 51,
      "outputs": [
        {
          "output_type": "stream",
          "text": [
            "[array([[ 0.40189344,  0.06878303,  0.07361549,  0.11103338, -0.12353898,\n",
            "         0.71880674,  0.14466761, -0.66364366],\n",
            "       [ 0.7441133 , -0.10733938, -0.0133907 , -0.40280256,  0.7707257 ,\n",
            "        -0.195893  , -0.11211708,  0.24927907],\n",
            "       [-0.7019519 ,  1.1507823 ,  0.03064272,  0.31162667,  0.37665832,\n",
            "        -0.2811802 ,  0.32006982,  0.29995847],\n",
            "       [ 0.25444785,  0.02284961, -0.8449968 , -0.16562672,  0.08223266,\n",
            "         0.17093207, -0.98257154, -0.607555  ],\n",
            "       [ 0.9100939 , -0.17560163,  0.37448955, -0.57808214, -0.6279049 ,\n",
            "        -0.19533242,  0.34582135, -0.57565224],\n",
            "       [-0.45503107,  0.6317265 , -0.5539862 , -0.12340034, -0.00530899,\n",
            "        -0.5609822 , -0.53370225,  0.27983806],\n",
            "       [ 0.06728395,  0.25712606,  0.67033285,  0.0746287 ,  0.3706839 ,\n",
            "        -0.58052427, -0.91885835,  0.14731137],\n",
            "       [-0.28026003,  0.02415845,  0.07046339,  0.50673544,  0.42461228,\n",
            "         0.657771  , -0.29019982,  0.22279365],\n",
            "       [-0.36943468, -0.6283122 , -0.07631729,  0.20427443,  0.770457  ,\n",
            "        -0.4251421 , -0.00935573, -0.18735938],\n",
            "       [ 0.20316698, -0.3623321 , -0.08159311, -0.01935619,  0.15241726,\n",
            "         0.14207108,  0.7922499 , -0.03241508]], dtype=float32), array([ 0.38981262,  0.00865389,  0.        ,  0.00044266, -0.01991718,\n",
            "       -0.04845427,  0.        ,  0.        ], dtype=float32)]\n"
          ],
          "name": "stdout"
        }
      ]
    },
    {
      "cell_type": "code",
      "metadata": {
        "id": "6cEsDLe03-iH",
        "colab_type": "code",
        "colab": {
          "base_uri": "https://localhost:8080/",
          "height": 353
        },
        "outputId": "05b37037-6856-4ac0-b96f-35554adfe071"
      },
      "source": [
        "print(layer2_weights[0])"
      ],
      "execution_count": 52,
      "outputs": [
        {
          "output_type": "stream",
          "text": [
            "[[ 0.40189344  0.06878303  0.07361549  0.11103338 -0.12353898  0.71880674\n",
            "   0.14466761 -0.66364366]\n",
            " [ 0.7441133  -0.10733938 -0.0133907  -0.40280256  0.7707257  -0.195893\n",
            "  -0.11211708  0.24927907]\n",
            " [-0.7019519   1.1507823   0.03064272  0.31162667  0.37665832 -0.2811802\n",
            "   0.32006982  0.29995847]\n",
            " [ 0.25444785  0.02284961 -0.8449968  -0.16562672  0.08223266  0.17093207\n",
            "  -0.98257154 -0.607555  ]\n",
            " [ 0.9100939  -0.17560163  0.37448955 -0.57808214 -0.6279049  -0.19533242\n",
            "   0.34582135 -0.57565224]\n",
            " [-0.45503107  0.6317265  -0.5539862  -0.12340034 -0.00530899 -0.5609822\n",
            "  -0.53370225  0.27983806]\n",
            " [ 0.06728395  0.25712606  0.67033285  0.0746287   0.3706839  -0.58052427\n",
            "  -0.91885835  0.14731137]\n",
            " [-0.28026003  0.02415845  0.07046339  0.50673544  0.42461228  0.657771\n",
            "  -0.29019982  0.22279365]\n",
            " [-0.36943468 -0.6283122  -0.07631729  0.20427443  0.770457   -0.4251421\n",
            "  -0.00935573 -0.18735938]\n",
            " [ 0.20316698 -0.3623321  -0.08159311 -0.01935619  0.15241726  0.14207108\n",
            "   0.7922499  -0.03241508]]\n"
          ],
          "name": "stdout"
        }
      ]
    },
    {
      "cell_type": "code",
      "metadata": {
        "id": "0AZdvhbw64pe",
        "colab_type": "code",
        "colab": {
          "base_uri": "https://localhost:8080/",
          "height": 34
        },
        "outputId": "ddb9a20a-aeba-4e07-aee5-b0d90bc66234"
      },
      "source": [
        "print(layer2_weights[0].shape)"
      ],
      "execution_count": 53,
      "outputs": [
        {
          "output_type": "stream",
          "text": [
            "(10, 8)\n"
          ],
          "name": "stdout"
        }
      ]
    },
    {
      "cell_type": "code",
      "metadata": {
        "id": "j3rEmFRI67UD",
        "colab_type": "code",
        "colab": {}
      },
      "source": [
        "test1_layer1_output = model_l1.predict(test1)"
      ],
      "execution_count": 54,
      "outputs": []
    },
    {
      "cell_type": "code",
      "metadata": {
        "id": "5bWSS8q87CFn",
        "colab_type": "code",
        "colab": {
          "base_uri": "https://localhost:8080/",
          "height": 50
        },
        "outputId": "a0a66130-e4cc-4306-aac9-7393760ae93d"
      },
      "source": [
        "print(np.dot(test1_layer1_output, layer2_weights[0]))"
      ],
      "execution_count": 56,
      "outputs": [
        {
          "output_type": "stream",
          "text": [
            "[[-0.8629651   7.764015   -7.237892   -0.33580709 -0.16207212  1.0325127\n",
            "  -6.5804024  -4.5893383 ]]\n"
          ],
          "name": "stdout"
        }
      ]
    },
    {
      "cell_type": "code",
      "metadata": {
        "id": "obg86cqd7J2d",
        "colab_type": "code",
        "colab": {
          "base_uri": "https://localhost:8080/",
          "height": 50
        },
        "outputId": "8bba2750-b8b3-4b1e-934b-48b9b2383f6f"
      },
      "source": [
        "print(np.dot(test1_layer1_output, layer2_weights[0])+ layer2_weights[1])"
      ],
      "execution_count": 57,
      "outputs": [
        {
          "output_type": "stream",
          "text": [
            "[[-0.4731525   7.7726693  -7.237892   -0.33536443 -0.1819893   0.9840584\n",
            "  -6.5804024  -4.5893383 ]]\n"
          ],
          "name": "stdout"
        }
      ]
    },
    {
      "cell_type": "code",
      "metadata": {
        "id": "yug1qn0l7Nlc",
        "colab_type": "code",
        "colab": {
          "base_uri": "https://localhost:8080/",
          "height": 67
        },
        "outputId": "91706457-fa44-4e53-ef70-635cc2c9d8b0"
      },
      "source": [
        "print(k.activations.relu(np.dot(test1_layer1_output, layer2_weights[0])+ layer2_weights[1]))"
      ],
      "execution_count": 58,
      "outputs": [
        {
          "output_type": "stream",
          "text": [
            "tf.Tensor(\n",
            "[[0.        7.7726693 0.        0.        0.        0.9840584 0.\n",
            "  0.       ]], shape=(1, 8), dtype=float32)\n"
          ],
          "name": "stdout"
        }
      ]
    },
    {
      "cell_type": "markdown",
      "metadata": {
        "id": "lhRfcwdZ7lTF",
        "colab_type": "text"
      },
      "source": [
        "Test third layer output"
      ]
    },
    {
      "cell_type": "code",
      "metadata": {
        "id": "y1PzpXDb7izU",
        "colab_type": "code",
        "colab": {}
      },
      "source": [
        "model_l3 = k.models.Model(inputs=model.input, outputs=model.get_layer('layer3').output)"
      ],
      "execution_count": 60,
      "outputs": []
    },
    {
      "cell_type": "code",
      "metadata": {
        "id": "lTHWHdFp7xRX",
        "colab_type": "code",
        "colab": {
          "base_uri": "https://localhost:8080/",
          "height": 50
        },
        "outputId": "7488f7d8-b1fb-4ba6-dcc8-b4705625912f"
      },
      "source": [
        "model_l3.predict(test1)"
      ],
      "execution_count": 61,
      "outputs": [
        {
          "output_type": "execute_result",
          "data": {
            "text/plain": [
              "array([[6.2441783, 0.       , 6.4815   , 5.0263743, 0.       ]],\n",
              "      dtype=float32)"
            ]
          },
          "metadata": {
            "tags": []
          },
          "execution_count": 61
        }
      ]
    },
    {
      "cell_type": "code",
      "metadata": {
        "id": "hHjRBEf671xB",
        "colab_type": "code",
        "colab": {}
      },
      "source": [
        "layer3_weights = model.get_layer('layer3').get_weights()\n"
      ],
      "execution_count": 62,
      "outputs": []
    },
    {
      "cell_type": "code",
      "metadata": {
        "id": "ZbMyIgkS7_eR",
        "colab_type": "code",
        "colab": {}
      },
      "source": [
        "test1_layer2_output = model_l2.predict(test1)"
      ],
      "execution_count": 63,
      "outputs": []
    },
    {
      "cell_type": "code",
      "metadata": {
        "id": "1HDCBaF88CIt",
        "colab_type": "code",
        "colab": {
          "base_uri": "https://localhost:8080/",
          "height": 34
        },
        "outputId": "48e1da16-ecd3-4490-de98-28e103352c63"
      },
      "source": [
        "print(k.activations.relu(np.dot(test1_layer2_output, layer3_weights[0])+ layer3_weights[1]))"
      ],
      "execution_count": 64,
      "outputs": [
        {
          "output_type": "stream",
          "text": [
            "tf.Tensor([[6.2441783 0.        6.4815    5.0263743 0.       ]], shape=(1, 5), dtype=float32)\n"
          ],
          "name": "stdout"
        }
      ]
    },
    {
      "cell_type": "markdown",
      "metadata": {
        "id": "EX9MBihS8K34",
        "colab_type": "text"
      },
      "source": [
        "Test last layer output"
      ]
    },
    {
      "cell_type": "code",
      "metadata": {
        "id": "o9e6DDUs8IpK",
        "colab_type": "code",
        "colab": {
          "base_uri": "https://localhost:8080/",
          "height": 34
        },
        "outputId": "5c03b1f1-2002-414a-8ad3-5bdf3c377482"
      },
      "source": [
        "model.predict(test1)"
      ],
      "execution_count": 65,
      "outputs": [
        {
          "output_type": "execute_result",
          "data": {
            "text/plain": [
              "array([[1.7492002e-04, 2.2346051e-03, 9.9759054e-01]], dtype=float32)"
            ]
          },
          "metadata": {
            "tags": []
          },
          "execution_count": 65
        }
      ]
    },
    {
      "cell_type": "code",
      "metadata": {
        "id": "LF5Yw0-h8SWT",
        "colab_type": "code",
        "colab": {}
      },
      "source": [
        "layer4_weights = model.get_layer('softmax_layer').get_weights()"
      ],
      "execution_count": 67,
      "outputs": []
    },
    {
      "cell_type": "code",
      "metadata": {
        "id": "agIkg0Sa8koQ",
        "colab_type": "code",
        "colab": {}
      },
      "source": [
        "test1_layer3_output = model_l3.predict(test1)"
      ],
      "execution_count": 68,
      "outputs": []
    },
    {
      "cell_type": "code",
      "metadata": {
        "id": "vuR4m9j99UK6",
        "colab_type": "code",
        "colab": {
          "base_uri": "https://localhost:8080/",
          "height": 34
        },
        "outputId": "81525788-0cd4-4abb-837c-7a8a26a6628c"
      },
      "source": [
        "print(np.dot(test1_layer3_output, layer4_weights[0])+ layer4_weights[1])"
      ],
      "execution_count": 74,
      "outputs": [
        {
          "output_type": "stream",
          "text": [
            "[[-7.619489  -5.071997   1.0292808]]\n"
          ],
          "name": "stdout"
        }
      ]
    },
    {
      "cell_type": "code",
      "metadata": {
        "id": "CNbugZ3A92rA",
        "colab_type": "code",
        "colab": {
          "base_uri": "https://localhost:8080/",
          "height": 34
        },
        "outputId": "f0f7ac95-89ed-4f14-cf0b-db02c19ea93f"
      },
      "source": [
        "import scipy\n",
        "print(scipy.special.softmax(np.dot(test1_layer3_output, layer4_weights[0])+ layer4_weights[1]))"
      ],
      "execution_count": 80,
      "outputs": [
        {
          "output_type": "stream",
          "text": [
            "[[1.7491994e-04 2.2346065e-03 9.9759048e-01]]\n"
          ],
          "name": "stdout"
        }
      ]
    },
    {
      "cell_type": "code",
      "metadata": {
        "id": "LxbRJ_9P8fS3",
        "colab_type": "code",
        "colab": {
          "base_uri": "https://localhost:8080/",
          "height": 354
        },
        "outputId": "8de71421-86f3-45aa-8748-e349f61639f0"
      },
      "source": [
        "test1_presoft = np.dot(test1_layer3_output, layer4_weights[0])+ layer4_weights[1]\n",
        "\n",
        "print(test1_presoft)\n",
        "\n",
        "print(k.activations.softmax(test1_presoft))"
      ],
      "execution_count": 83,
      "outputs": [
        {
          "output_type": "stream",
          "text": [
            "[[-7.619489  -5.071997   1.0292808]]\n"
          ],
          "name": "stdout"
        },
        {
          "output_type": "error",
          "ename": "AttributeError",
          "evalue": "ignored",
          "traceback": [
            "\u001b[0;31m---------------------------------------------------------------------------\u001b[0m",
            "\u001b[0;31mAttributeError\u001b[0m                            Traceback (most recent call last)",
            "\u001b[0;32m<ipython-input-83-bb77be5f9756>\u001b[0m in \u001b[0;36m<module>\u001b[0;34m()\u001b[0m\n\u001b[1;32m      3\u001b[0m \u001b[0mprint\u001b[0m\u001b[0;34m(\u001b[0m\u001b[0mtest1_presoft\u001b[0m\u001b[0;34m)\u001b[0m\u001b[0;34m\u001b[0m\u001b[0;34m\u001b[0m\u001b[0m\n\u001b[1;32m      4\u001b[0m \u001b[0;34m\u001b[0m\u001b[0m\n\u001b[0;32m----> 5\u001b[0;31m \u001b[0mprint\u001b[0m\u001b[0;34m(\u001b[0m\u001b[0mk\u001b[0m\u001b[0;34m.\u001b[0m\u001b[0mactivations\u001b[0m\u001b[0;34m.\u001b[0m\u001b[0msoftmax\u001b[0m\u001b[0;34m(\u001b[0m\u001b[0mtest1_presoft\u001b[0m\u001b[0;34m)\u001b[0m\u001b[0;34m)\u001b[0m\u001b[0;34m\u001b[0m\u001b[0;34m\u001b[0m\u001b[0m\n\u001b[0m",
            "\u001b[0;32m/usr/local/lib/python3.6/dist-packages/tensorflow/python/keras/activations.py\u001b[0m in \u001b[0;36msoftmax\u001b[0;34m(x, axis)\u001b[0m\n\u001b[1;32m     68\u001b[0m       \u001b[0mValueError\u001b[0m\u001b[0;34m:\u001b[0m \u001b[0mIn\u001b[0m \u001b[0mcase\u001b[0m\u001b[0;31m \u001b[0m\u001b[0;31m`\u001b[0m\u001b[0mdim\u001b[0m\u001b[0;34m(\u001b[0m\u001b[0mx\u001b[0m\u001b[0;34m)\u001b[0m \u001b[0;34m==\u001b[0m \u001b[0;36m1\u001b[0m\u001b[0;31m`\u001b[0m\u001b[0;34m.\u001b[0m\u001b[0;34m\u001b[0m\u001b[0;34m\u001b[0m\u001b[0m\n\u001b[1;32m     69\u001b[0m   \"\"\"\n\u001b[0;32m---> 70\u001b[0;31m   \u001b[0mndim\u001b[0m \u001b[0;34m=\u001b[0m \u001b[0mK\u001b[0m\u001b[0;34m.\u001b[0m\u001b[0mndim\u001b[0m\u001b[0;34m(\u001b[0m\u001b[0mx\u001b[0m\u001b[0;34m)\u001b[0m\u001b[0;34m\u001b[0m\u001b[0;34m\u001b[0m\u001b[0m\n\u001b[0m\u001b[1;32m     71\u001b[0m   \u001b[0;32mif\u001b[0m \u001b[0mndim\u001b[0m \u001b[0;34m==\u001b[0m \u001b[0;36m2\u001b[0m\u001b[0;34m:\u001b[0m\u001b[0;34m\u001b[0m\u001b[0;34m\u001b[0m\u001b[0m\n\u001b[1;32m     72\u001b[0m     \u001b[0;32mreturn\u001b[0m \u001b[0mnn\u001b[0m\u001b[0;34m.\u001b[0m\u001b[0msoftmax\u001b[0m\u001b[0;34m(\u001b[0m\u001b[0mx\u001b[0m\u001b[0;34m)\u001b[0m\u001b[0;34m\u001b[0m\u001b[0;34m\u001b[0m\u001b[0m\n",
            "\u001b[0;32m/usr/local/lib/python3.6/dist-packages/tensorflow/python/keras/backend.py\u001b[0m in \u001b[0;36mndim\u001b[0;34m(x)\u001b[0m\n\u001b[1;32m   1231\u001b[0m \u001b[0;34m\u001b[0m\u001b[0m\n\u001b[1;32m   1232\u001b[0m   \"\"\"\n\u001b[0;32m-> 1233\u001b[0;31m   \u001b[0mdims\u001b[0m \u001b[0;34m=\u001b[0m \u001b[0mx\u001b[0m\u001b[0;34m.\u001b[0m\u001b[0mshape\u001b[0m\u001b[0;34m.\u001b[0m\u001b[0m_dims\u001b[0m\u001b[0;34m\u001b[0m\u001b[0;34m\u001b[0m\u001b[0m\n\u001b[0m\u001b[1;32m   1234\u001b[0m   \u001b[0;32mif\u001b[0m \u001b[0mdims\u001b[0m \u001b[0;32mis\u001b[0m \u001b[0;32mnot\u001b[0m \u001b[0;32mNone\u001b[0m\u001b[0;34m:\u001b[0m\u001b[0;34m\u001b[0m\u001b[0;34m\u001b[0m\u001b[0m\n\u001b[1;32m   1235\u001b[0m     \u001b[0;32mreturn\u001b[0m \u001b[0mlen\u001b[0m\u001b[0;34m(\u001b[0m\u001b[0mdims\u001b[0m\u001b[0;34m)\u001b[0m\u001b[0;34m\u001b[0m\u001b[0;34m\u001b[0m\u001b[0m\n",
            "\u001b[0;31mAttributeError\u001b[0m: 'tuple' object has no attribute '_dims'"
          ]
        }
      ]
    }
  ]
}