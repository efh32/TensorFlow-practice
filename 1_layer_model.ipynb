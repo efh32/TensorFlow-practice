{
  "nbformat": 4,
  "nbformat_minor": 0,
  "metadata": {
    "colab": {
      "name": "1_layer_model.ipynb",
      "provenance": [],
      "collapsed_sections": [],
      "authorship_tag": "ABX9TyMpk+HUMhA0A88jr1eRrpUe",
      "include_colab_link": true
    },
    "kernelspec": {
      "name": "python3",
      "display_name": "Python 3"
    }
  },
  "cells": [
    {
      "cell_type": "markdown",
      "metadata": {
        "id": "view-in-github",
        "colab_type": "text"
      },
      "source": [
        "<a href=\"https://colab.research.google.com/github/efh32/TensorFlow-practice/blob/master/1_layer_model.ipynb\" target=\"_parent\"><img src=\"https://colab.research.google.com/assets/colab-badge.svg\" alt=\"Open In Colab\"/></a>"
      ]
    },
    {
      "cell_type": "code",
      "metadata": {
        "id": "L6X0RxpvG7y8",
        "colab_type": "code",
        "colab": {}
      },
      "source": [
        "import tensorflow as tf\n",
        "import tensorflow.keras as k\n",
        "import tensorflow.keras.layers as kl\n",
        "import numpy as np\n",
        "import matplotlib.pyplot as plt\n",
        "from sklearn.datasets import make_classification\n",
        "from sklearn.model_selection import train_test_split"
      ],
      "execution_count": null,
      "outputs": []
    },
    {
      "cell_type": "code",
      "metadata": {
        "id": "M_eKGZEQQjmE",
        "colab_type": "code",
        "colab": {}
      },
      "source": [
        "data, labels = make_classification(n_samples=1000, n_features = 2, n_redundant=0,n_classes=2)\n",
        "X_train, X_test, y_train, y_test = train_test_split(data, labels)"
      ],
      "execution_count": null,
      "outputs": []
    },
    {
      "cell_type": "code",
      "metadata": {
        "id": "HfirhFkIQrAY",
        "colab_type": "code",
        "colab": {}
      },
      "source": [
        "np.savetxt('X_train.csv', X_train)\n",
        "np.savetxt('X_test.csv', X_test)\n",
        "np.savetxt('y_train.csv', y_train)\n",
        "np.savetxt('y_test.csv', y_test)"
      ],
      "execution_count": null,
      "outputs": []
    },
    {
      "cell_type": "code",
      "metadata": {
        "id": "oK0yHdmkM2sF",
        "colab_type": "code",
        "colab": {
          "base_uri": "https://localhost:8080/",
          "height": 34
        },
        "outputId": "e8516c75-c998-4e46-943b-59b6ea5ecb27"
      },
      "source": [
        "!ls"
      ],
      "execution_count": null,
      "outputs": [
        {
          "output_type": "stream",
          "text": [
            "sample_data  X_test.csv  X_train.csv  y_test.csv  y_train.csv\n"
          ],
          "name": "stdout"
        }
      ]
    },
    {
      "cell_type": "code",
      "metadata": {
        "id": "OdYhLVKBhVP3",
        "colab_type": "code",
        "colab": {
          "base_uri": "https://localhost:8080/",
          "height": 218
        },
        "outputId": "baf767e4-28e8-4dac-cc92-2096ee861914"
      },
      "source": [
        "\n",
        "X_train = np.loadtxt('X_train.csv')\n",
        "X_test = np.loadtxt('X_test.csv')\n",
        "y_train = np.loadtxt('y_train.csv')\n",
        "y_test = np.loadtxt('y_test.csv')\n",
        "\n",
        "y_train = y_train.astype(int)\n",
        "y_test = y_test.astype(int)\n",
        "\n",
        "print(X_train[:5])\n",
        "print(y_train[:5])\n",
        "print(X_test[:5])\n",
        "print(y_test[:5])\n"
      ],
      "execution_count": null,
      "outputs": [
        {
          "output_type": "stream",
          "text": [
            "[[-0.91662835  1.29466482]\n",
            " [ 0.9655972  -0.88773106]\n",
            " [-1.34209564 -0.41327558]\n",
            " [-1.09570403 -0.26910964]\n",
            " [-0.54846303 -1.73857713]]\n",
            "[1 0 1 0 0]\n",
            "[[-0.66858545  1.52806954]\n",
            " [ 0.43931108 -1.30738403]\n",
            " [-1.08702907 -1.12004607]\n",
            " [ 0.40342901 -0.9421445 ]\n",
            " [-0.59860747  2.39915528]]\n",
            "[1 0 0 0 1]\n"
          ],
          "name": "stdout"
        }
      ]
    },
    {
      "cell_type": "code",
      "metadata": {
        "id": "Rz_cJ_qmQqbE",
        "colab_type": "code",
        "colab": {}
      },
      "source": [
        "model = k.Sequential()\n",
        "model.add(kl.Dense(1, input_shape=(2,), activation='sigmoid', bias_initializer='he_normal', name='layer1'))"
      ],
      "execution_count": null,
      "outputs": []
    },
    {
      "cell_type": "code",
      "metadata": {
        "id": "ER3IoqvQSUlG",
        "colab_type": "code",
        "colab": {
          "base_uri": "https://localhost:8080/",
          "height": 34
        },
        "outputId": "5c16aebc-77b0-43cc-aafc-9cf53d49b7a0"
      },
      "source": [
        "model.compile(optimizer='Adam',loss='binary_crossentropy',metrics='accuracy')\n",
        "model.fit(X_train, y_train, batch_size=32, epochs=1000, verbose=0)"
      ],
      "execution_count": null,
      "outputs": [
        {
          "output_type": "execute_result",
          "data": {
            "text/plain": [
              "<tensorflow.python.keras.callbacks.History at 0x7f6aa68a5c18>"
            ]
          },
          "metadata": {
            "tags": []
          },
          "execution_count": 44
        }
      ]
    },
    {
      "cell_type": "code",
      "metadata": {
        "id": "cmZD9IcgfOy-",
        "colab_type": "code",
        "colab": {
          "base_uri": "https://localhost:8080/",
          "height": 282
        },
        "outputId": "0ff045a9-f0db-4b42-dbf0-abf3e8fc0699"
      },
      "source": [
        "plt.plot(model.history.history['accuracy'],c='purple')\n",
        "plt.plot(model.history.history['loss'],c='g')"
      ],
      "execution_count": null,
      "outputs": [
        {
          "output_type": "execute_result",
          "data": {
            "text/plain": [
              "[<matplotlib.lines.Line2D at 0x7f6aa5eb0b38>]"
            ]
          },
          "metadata": {
            "tags": []
          },
          "execution_count": 53
        },
        {
          "output_type": "display_data",
          "data": {
            "image/png": "[encoded data removed]",
            "text/plain": [
              "<Figure size 432x288 with 1 Axes>"
            ]
          },
          "metadata": {
            "tags": [],
            "needs_background": "light"
          }
        }
      ]
    },
    {
      "cell_type": "code",
      "metadata": {
        "id": "aaj6SDptS3Hh",
        "colab_type": "code",
        "colab": {}
      },
      "source": [
        "c1_train = X_train[y_train==0]\n",
        "c2_train = X_train[y_train==1]"
      ],
      "execution_count": null,
      "outputs": []
    },
    {
      "cell_type": "markdown",
      "metadata": {
        "id": "HCKALIABm3jQ",
        "colab_type": "text"
      },
      "source": [
        "We can extract the weights biases that were trained by the training data.  We can use the weights from the trained model in order to create the line that shows how the model makes a prediction for new data points.   \n",
        "\n",
        "Linear regression for two inputs :\n",
        "$f(x) = w_1*i_1 + w_2*i_2 + b$\n",
        "\n",
        "Sigmoid function: \n",
        "$prediction = \\frac{1}{1+e^{-f(x)}}$\n",
        "\n",
        "When $f(x) = 0$ the sigmoid function produces a value of $0.5$.  If $f(x)$ is a positive value the sigmoid function produces a value greater than $0.5$.  The larger the positive value, the closer the value is to $1$.  A negative value produces a value less than $0.5$ where the smaller the value the closer the value is to $0$.  A line can partition the classes when $w_1*i_1 + w_2*i_2 + b = 0$.\n",
        "\n",
        "\n",
        "In order to plot the line, we need two points on the line.  We can assume we know the value for $i_1$ and solve for $i_2$: \n",
        "\n",
        "$w_1*i_1 + w_2*i_2 + b = 0$\n",
        "\n",
        "$w_2*i_2= (-1)(w_1*i_1 + b)$\n",
        "\n",
        "$i_2= \\frac{(-1)(w_1*i_1 + b)}{w_2}$\n"
      ]
    },
    {
      "cell_type": "code",
      "metadata": {
        "id": "gfOPSlK8UgEg",
        "colab_type": "code",
        "colab": {
          "base_uri": "https://localhost:8080/",
          "height": 50
        },
        "outputId": "c64c5bb1-883e-4c43-8c77-b7dee2609e93"
      },
      "source": [
        "layer1 = model.get_layer('layer1')\n",
        "weights1 = layer1.get_weights()\n",
        "\n",
        "print(weights1)"
      ],
      "execution_count": null,
      "outputs": [
        {
          "output_type": "stream",
          "text": [
            "[array([[-0.03863887],\n",
            "       [ 4.187705  ]], dtype=float32), array([0.46213484], dtype=float32)]\n"
          ],
          "name": "stdout"
        }
      ]
    },
    {
      "cell_type": "code",
      "metadata": {
        "id": "LXzTvfGGUpQT",
        "colab_type": "code",
        "colab": {}
      },
      "source": [
        "x1, x2 = -4, 4\n",
        "\n",
        "def func1(x):\n",
        "  return (-1)*(-0.03863887*x + 0.46213484)/(4.187705)\n",
        "\n",
        "y1 = func1(x1)\n",
        "y2 = func1(x2)"
      ],
      "execution_count": null,
      "outputs": []
    },
    {
      "cell_type": "markdown",
      "metadata": {
        "id": "eemvvCn1Qoz7",
        "colab_type": "text"
      },
      "source": [
        "This plot shows the hyperplane that separates the training data.  "
      ]
    },
    {
      "cell_type": "code",
      "metadata": {
        "id": "AWgb-z-KTJnZ",
        "colab_type": "code",
        "colab": {
          "base_uri": "https://localhost:8080/",
          "height": 282
        },
        "outputId": "52da4c34-18be-450d-c127-def5cceb8829"
      },
      "source": [
        "plt.scatter(c1_train[:,0],c1_train[:,1],c='orange')\n",
        "plt.scatter(c2_train[:,0],c2_train[:,1],c='b')\n",
        "plt.plot([x1,x2],[y1,y2],c='g')"
      ],
      "execution_count": null,
      "outputs": [
        {
          "output_type": "execute_result",
          "data": {
            "text/plain": [
              "[<matplotlib.lines.Line2D at 0x7f6aa5f7bcc0>]"
            ]
          },
          "metadata": {
            "tags": []
          },
          "execution_count": 50
        },
        {
          "output_type": "display_data",
          "data": {
            "image/png": "[encoded data removed]",
            "text/plain": [
              "<Figure size 432x288 with 1 Axes>"
            ]
          },
          "metadata": {
            "tags": [],
            "needs_background": "light"
          }
        }
      ]
    },
    {
      "cell_type": "code",
      "metadata": {
        "id": "4hCPsSmTZb47",
        "colab_type": "code",
        "colab": {}
      },
      "source": [
        "c1_test = X_test[y_test==0]\n",
        "c2_test = X_test[y_test==1]"
      ],
      "execution_count": null,
      "outputs": []
    },
    {
      "cell_type": "markdown",
      "metadata": {
        "id": "oVhhx-ZARBqV",
        "colab_type": "text"
      },
      "source": [
        "This plot shows the hyperplane that separates the test data."
      ]
    },
    {
      "cell_type": "code",
      "metadata": {
        "id": "RL3PosBqbMnZ",
        "colab_type": "code",
        "colab": {
          "base_uri": "https://localhost:8080/",
          "height": 282
        },
        "outputId": "77f86c6d-a084-4723-fb81-fb21d99b0ede"
      },
      "source": [
        "plt.scatter(c1_test[:,0],c1_test[:,1],c='orange')\n",
        "plt.scatter(c2_test[:,0],c2_test[:,1],c='b')\n",
        "plt.plot([x1,x2],[y1,y2],c='g')"
      ],
      "execution_count": null,
      "outputs": [
        {
          "output_type": "execute_result",
          "data": {
            "text/plain": [
              "[<matplotlib.lines.Line2D at 0x7f6aa5ef20f0>]"
            ]
          },
          "metadata": {
            "tags": []
          },
          "execution_count": 52
        },
        {
          "output_type": "display_data",
          "data": {
            "image/png": "[encoded data removed]",
            "text/plain": [
              "<Figure size 432x288 with 1 Axes>"
            ]
          },
          "metadata": {
            "tags": [],
            "needs_background": "light"
          }
        }
      ]
    }
  ]
}